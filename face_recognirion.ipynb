{
  "nbformat": 4,
  "nbformat_minor": 0,
  "metadata": {
    "colab": {
      "provenance": [],
      "authorship_tag": "ABX9TyMQS/IDN5bGgmz70cWx53tV",
      "include_colab_link": true
    },
    "kernelspec": {
      "name": "python3",
      "display_name": "Python 3"
    },
    "language_info": {
      "name": "python"
    }
  },
  "cells": [
    {
      "cell_type": "markdown",
      "metadata": {
        "id": "view-in-github",
        "colab_type": "text"
      },
      "source": [
        "<a href=\"https://colab.research.google.com/github/Sudipta-Mitra/face-recognition-/blob/main/face_recognirion.ipynb\" target=\"_parent\"><img src=\"https://colab.research.google.com/assets/colab-badge.svg\" alt=\"Open In Colab\"/></a>"
      ]
    },
    {
      "cell_type": "markdown",
      "source": [
        "**FACE RECOGNITION**"
      ],
      "metadata": {
        "id": "ZsvxfPdXnRlr"
      }
    },
    {
      "cell_type": "code",
      "execution_count": null,
      "metadata": {
        "colab": {
          "base_uri": "https://localhost:8080/"
        },
        "id": "NjM1MIi_2C6o",
        "outputId": "594910f0-ee48-49ed-8be7-d7480aea4ecf"
      },
      "outputs": [
        {
          "output_type": "stream",
          "name": "stdout",
          "text": [
            "Mounted at /content/gdrive\n"
          ]
        }
      ],
      "source": [
        "import tensorflow\n",
        "from tensorflow import keras\n",
        "from google.colab import drive\n",
        "drive.mount('/content/gdrive')"
      ]
    },
    {
      "cell_type": "code",
      "source": [
        "train_images = \"/content/gdrive/MyDrive/Face Images/Final Training Images\"\n",
        "\n",
        "from tensorflow.keras.preprocessing.image import ImageDataGenerator # create many variations of an image.\n",
        "train_gen = ImageDataGenerator(\n",
        "    shear_range=0.1, #tilting\n",
        "    zoom_range=0.1,\n",
        "    horizontal_flip=True\n",
        ")"
      ],
      "metadata": {
        "id": "vO70tGH_3NIt"
      },
      "execution_count": null,
      "outputs": []
    },
    {
      "cell_type": "code",
      "source": [
        "test_gen = ImageDataGenerator()"
      ],
      "metadata": {
        "id": "P_1uvsRU4VhX"
      },
      "execution_count": null,
      "outputs": []
    },
    {
      "cell_type": "code",
      "source": [
        "training_data = train_gen.flow_from_directory(\n",
        "    train_images,\n",
        "    target_size = (100,100),\n",
        "    batch_size = 30,\n",
        "    class_mode = 'categorical'\n",
        ")"
      ],
      "metadata": {
        "colab": {
          "base_uri": "https://localhost:8080/"
        },
        "id": "mlfBy1dN4rES",
        "outputId": "c3b9f985-41c4-43f3-fb5f-1dfe33881423"
      },
      "execution_count": null,
      "outputs": [
        {
          "output_type": "stream",
          "name": "stdout",
          "text": [
            "Found 244 images belonging to 16 classes.\n"
          ]
        }
      ]
    },
    {
      "cell_type": "code",
      "source": [
        "testing_data = test_gen.flow_from_directory(\n",
        "    train_images,\n",
        "    target_size = (100,100),\n",
        "    batch_size = 30,\n",
        "    class_mode = 'categorical'\n",
        ")"
      ],
      "metadata": {
        "colab": {
          "base_uri": "https://localhost:8080/"
        },
        "id": "vOrWyJVz4Gkg",
        "outputId": "9d24fffb-2e2b-40e2-ba95-71c270722526"
      },
      "execution_count": null,
      "outputs": [
        {
          "output_type": "stream",
          "name": "stdout",
          "text": [
            "Found 244 images belonging to 16 classes.\n"
          ]
        }
      ]
    },
    {
      "cell_type": "code",
      "source": [
        "testing_data.class_indices"
      ],
      "metadata": {
        "colab": {
          "base_uri": "https://localhost:8080/"
        },
        "id": "HhUIFTnw4OWx",
        "outputId": "943555c8-b627-4485-b431-9e05df59c478"
      },
      "execution_count": null,
      "outputs": [
        {
          "output_type": "execute_result",
          "data": {
            "text/plain": [
              "{'face1': 0,\n",
              " 'face10': 1,\n",
              " 'face11': 2,\n",
              " 'face12': 3,\n",
              " 'face13': 4,\n",
              " 'face14': 5,\n",
              " 'face15': 6,\n",
              " 'face16': 7,\n",
              " 'face2': 8,\n",
              " 'face3': 9,\n",
              " 'face4': 10,\n",
              " 'face5': 11,\n",
              " 'face6': 12,\n",
              " 'face7': 13,\n",
              " 'face8': 14,\n",
              " 'face9': 15}"
            ]
          },
          "metadata": {},
          "execution_count": 7
        }
      ]
    },
    {
      "cell_type": "code",
      "source": [
        "Train_class = training_data.class_indices\n",
        "Result_class = {}\n",
        "for value_tag, face_tag in zip(Train_class.values(),Train_class.keys()):\n",
        "    Result_class[value_tag] = face_tag\n",
        "import pickle\n",
        "with open('/content/gdrive/MyDrive/Face Images/ResultMap.pkl','wb') as Final_mapping:\n",
        "    pickle.dump(Result_class,Final_mapping)"
      ],
      "metadata": {
        "id": "2N4dBY7b4d5z"
      },
      "execution_count": null,
      "outputs": []
    },
    {
      "cell_type": "code",
      "source": [
        "print(\"Mapping of Face and its numeric value\",Result_class)"
      ],
      "metadata": {
        "colab": {
          "base_uri": "https://localhost:8080/"
        },
        "id": "WSZ_ybfV4hCI",
        "outputId": "a84a651b-0fb2-462e-a55b-64645e154a1e"
      },
      "execution_count": null,
      "outputs": [
        {
          "output_type": "stream",
          "name": "stdout",
          "text": [
            "Mapping of Face and its numeric value {0: 'face1', 1: 'face10', 2: 'face11', 3: 'face12', 4: 'face13', 5: 'face14', 6: 'face15', 7: 'face16', 8: 'face2', 9: 'face3', 10: 'face4', 11: 'face5', 12: 'face6', 13: 'face7', 14: 'face8', 15: 'face9'}\n"
          ]
        }
      ]
    },
    {
      "cell_type": "code",
      "source": [
        "Output_Neurons=len(Result_class)\n",
        "print('\\n The Number of output neurons: ', Output_Neurons)"
      ],
      "metadata": {
        "colab": {
          "base_uri": "https://localhost:8080/"
        },
        "id": "bDnkW3Er4vo1",
        "outputId": "c79024f9-f401-41e5-f783-d0fda48546a3"
      },
      "execution_count": null,
      "outputs": [
        {
          "output_type": "stream",
          "name": "stdout",
          "text": [
            "\n",
            " The Number of output neurons:  16\n"
          ]
        }
      ]
    },
    {
      "cell_type": "code",
      "source": [
        "from keras.models import Sequential\n",
        "from keras.layers import Conv2D, MaxPool2D, Flatten, Dense"
      ],
      "metadata": {
        "id": "2lT8tu2L4zjR"
      },
      "execution_count": null,
      "outputs": []
    },
    {
      "cell_type": "code",
      "source": [
        "Model = Sequential()\n",
        "Model.add(Conv2D(16, kernel_size=(5,5), strides=(1,1), input_shape = (100,100,3),activation='relu'))\n",
        "Model.add(MaxPool2D(pool_size=(2,2)))\n",
        "Model.add(Conv2D(32,kernel_size=(3,3),strides=(1,1),activation='relu'))\n",
        "Model.add(MaxPool2D(pool_size=(2,2)))\n",
        "Model.add(Flatten())\n",
        "Model.add(Dense(64,activation='relu'))\n",
        "Model.add(Dense(Output_Neurons,activation='softmax'))\n",
        "Model.compile(loss='categorical_crossentropy',optimizer = 'adam',metrics = ['Accuracy'])\n",
        "from keras.callbacks import EarlyStopping\n",
        "call = EarlyStopping(\n",
        "                    min_delta=0.005,\n",
        "                    patience=5,\n",
        "                     verbose=1\n",
        "                    )\n",
        "import time\n",
        "StartTime=time.time()\n",
        "Model.fit(training_data,\n",
        "          epochs = 30,\n",
        "          validation_data=testing_data,\n",
        "                   callbacks=call)\n",
        "\n",
        "Endtime = time.time()\n",
        "print('Total Training Time taken: ',round((Endtime-StartTime)/60),'Minutes')"
      ],
      "metadata": {
        "colab": {
          "base_uri": "https://localhost:8080/"
        },
        "id": "wncpXiep41kB",
        "outputId": "72023493-0d4c-4356-8065-6c75b8d57941"
      },
      "execution_count": null,
      "outputs": [
        {
          "output_type": "stream",
          "name": "stderr",
          "text": [
            "/usr/local/lib/python3.11/dist-packages/keras/src/layers/convolutional/base_conv.py:107: UserWarning: Do not pass an `input_shape`/`input_dim` argument to a layer. When using Sequential models, prefer using an `Input(shape)` object as the first layer in the model instead.\n",
            "  super().__init__(activity_regularizer=activity_regularizer, **kwargs)\n",
            "/usr/local/lib/python3.11/dist-packages/keras/src/trainers/data_adapters/py_dataset_adapter.py:121: UserWarning: Your `PyDataset` class should call `super().__init__(**kwargs)` in its constructor. `**kwargs` can include `workers`, `use_multiprocessing`, `max_queue_size`. Do not pass these arguments to `fit()`, as they will be ignored.\n",
            "  self._warn_if_super_not_called()\n"
          ]
        },
        {
          "output_type": "stream",
          "name": "stdout",
          "text": [
            "Epoch 1/30\n",
            "\u001b[1m9/9\u001b[0m \u001b[32m━━━━━━━━━━━━━━━━━━━━\u001b[0m\u001b[37m\u001b[0m \u001b[1m99s\u001b[0m 11s/step - Accuracy: 0.0752 - loss: 216.1414 - val_Accuracy: 0.0492 - val_loss: 28.7980\n",
            "Epoch 2/30\n",
            "\u001b[1m9/9\u001b[0m \u001b[32m━━━━━━━━━━━━━━━━━━━━\u001b[0m\u001b[37m\u001b[0m \u001b[1m6s\u001b[0m 592ms/step - Accuracy: 0.1412 - loss: 14.2898 - val_Accuracy: 0.2336 - val_loss: 2.5020\n",
            "Epoch 3/30\n",
            "\u001b[1m9/9\u001b[0m \u001b[32m━━━━━━━━━━━━━━━━━━━━\u001b[0m\u001b[37m\u001b[0m \u001b[1m5s\u001b[0m 545ms/step - Accuracy: 0.3123 - loss: 2.2585 - val_Accuracy: 0.5820 - val_loss: 1.3901\n",
            "Epoch 4/30\n",
            "\u001b[1m9/9\u001b[0m \u001b[32m━━━━━━━━━━━━━━━━━━━━\u001b[0m\u001b[37m\u001b[0m \u001b[1m7s\u001b[0m 783ms/step - Accuracy: 0.6055 - loss: 1.4330 - val_Accuracy: 0.6066 - val_loss: 1.3398\n",
            "Epoch 5/30\n",
            "\u001b[1m9/9\u001b[0m \u001b[32m━━━━━━━━━━━━━━━━━━━━\u001b[0m\u001b[37m\u001b[0m \u001b[1m5s\u001b[0m 533ms/step - Accuracy: 0.6497 - loss: 1.1624 - val_Accuracy: 0.8361 - val_loss: 0.5389\n",
            "Epoch 6/30\n",
            "\u001b[1m9/9\u001b[0m \u001b[32m━━━━━━━━━━━━━━━━━━━━\u001b[0m\u001b[37m\u001b[0m \u001b[1m5s\u001b[0m 571ms/step - Accuracy: 0.7832 - loss: 0.6659 - val_Accuracy: 0.9426 - val_loss: 0.2066\n",
            "Epoch 7/30\n",
            "\u001b[1m9/9\u001b[0m \u001b[32m━━━━━━━━━━━━━━━━━━━━\u001b[0m\u001b[37m\u001b[0m \u001b[1m10s\u001b[0m 1s/step - Accuracy: 0.8950 - loss: 0.2659 - val_Accuracy: 0.9713 - val_loss: 0.1242\n",
            "Epoch 8/30\n",
            "\u001b[1m9/9\u001b[0m \u001b[32m━━━━━━━━━━━━━━━━━━━━\u001b[0m\u001b[37m\u001b[0m \u001b[1m9s\u001b[0m 1s/step - Accuracy: 0.9151 - loss: 0.2175 - val_Accuracy: 0.9836 - val_loss: 0.0604\n",
            "Epoch 9/30\n",
            "\u001b[1m9/9\u001b[0m \u001b[32m━━━━━━━━━━━━━━━━━━━━\u001b[0m\u001b[37m\u001b[0m \u001b[1m13s\u001b[0m 1s/step - Accuracy: 0.9711 - loss: 0.0835 - val_Accuracy: 0.9959 - val_loss: 0.0406\n",
            "Epoch 10/30\n",
            "\u001b[1m9/9\u001b[0m \u001b[32m━━━━━━━━━━━━━━━━━━━━\u001b[0m\u001b[37m\u001b[0m \u001b[1m7s\u001b[0m 722ms/step - Accuracy: 0.9524 - loss: 0.1322 - val_Accuracy: 1.0000 - val_loss: 0.0396\n",
            "Epoch 11/30\n",
            "\u001b[1m9/9\u001b[0m \u001b[32m━━━━━━━━━━━━━━━━━━━━\u001b[0m\u001b[37m\u001b[0m \u001b[1m9s\u001b[0m 997ms/step - Accuracy: 0.9803 - loss: 0.0855 - val_Accuracy: 0.9754 - val_loss: 0.0490\n",
            "Epoch 12/30\n",
            "\u001b[1m9/9\u001b[0m \u001b[32m━━━━━━━━━━━━━━━━━━━━\u001b[0m\u001b[37m\u001b[0m \u001b[1m8s\u001b[0m 760ms/step - Accuracy: 0.9790 - loss: 0.0896 - val_Accuracy: 0.9795 - val_loss: 0.0845\n",
            "Epoch 13/30\n",
            "\u001b[1m9/9\u001b[0m \u001b[32m━━━━━━━━━━━━━━━━━━━━\u001b[0m\u001b[37m\u001b[0m \u001b[1m9s\u001b[0m 1s/step - Accuracy: 0.9439 - loss: 0.1837 - val_Accuracy: 0.9959 - val_loss: 0.0552\n",
            "Epoch 14/30\n",
            "\u001b[1m9/9\u001b[0m \u001b[32m━━━━━━━━━━━━━━━━━━━━\u001b[0m\u001b[37m\u001b[0m \u001b[1m7s\u001b[0m 785ms/step - Accuracy: 0.9682 - loss: 0.1343 - val_Accuracy: 1.0000 - val_loss: 0.0209\n",
            "Epoch 15/30\n",
            "\u001b[1m9/9\u001b[0m \u001b[32m━━━━━━━━━━━━━━━━━━━━\u001b[0m\u001b[37m\u001b[0m \u001b[1m11s\u001b[0m 879ms/step - Accuracy: 0.9975 - loss: 0.0513 - val_Accuracy: 1.0000 - val_loss: 0.0088\n",
            "Epoch 16/30\n",
            "\u001b[1m9/9\u001b[0m \u001b[32m━━━━━━━━━━━━━━━━━━━━\u001b[0m\u001b[37m\u001b[0m \u001b[1m9s\u001b[0m 1s/step - Accuracy: 0.9860 - loss: 0.0474 - val_Accuracy: 1.0000 - val_loss: 0.0024\n",
            "Epoch 17/30\n",
            "\u001b[1m9/9\u001b[0m \u001b[32m━━━━━━━━━━━━━━━━━━━━\u001b[0m\u001b[37m\u001b[0m \u001b[1m6s\u001b[0m 686ms/step - Accuracy: 0.9971 - loss: 0.0290 - val_Accuracy: 1.0000 - val_loss: 0.0038\n",
            "Epoch 18/30\n",
            "\u001b[1m9/9\u001b[0m \u001b[32m━━━━━━━━━━━━━━━━━━━━\u001b[0m\u001b[37m\u001b[0m \u001b[1m11s\u001b[0m 781ms/step - Accuracy: 0.9802 - loss: 0.0517 - val_Accuracy: 1.0000 - val_loss: 0.0078\n",
            "Epoch 19/30\n",
            "\u001b[1m9/9\u001b[0m \u001b[32m━━━━━━━━━━━━━━━━━━━━\u001b[0m\u001b[37m\u001b[0m \u001b[1m9s\u001b[0m 1s/step - Accuracy: 0.9922 - loss: 0.0292 - val_Accuracy: 1.0000 - val_loss: 0.0039\n",
            "Epoch 20/30\n",
            "\u001b[1m9/9\u001b[0m \u001b[32m━━━━━━━━━━━━━━━━━━━━\u001b[0m\u001b[37m\u001b[0m \u001b[1m7s\u001b[0m 761ms/step - Accuracy: 1.0000 - loss: 0.0191 - val_Accuracy: 1.0000 - val_loss: 0.0011\n",
            "Epoch 21/30\n",
            "\u001b[1m9/9\u001b[0m \u001b[32m━━━━━━━━━━━━━━━━━━━━\u001b[0m\u001b[37m\u001b[0m \u001b[1m7s\u001b[0m 807ms/step - Accuracy: 0.9967 - loss: 0.0159 - val_Accuracy: 1.0000 - val_loss: 7.5572e-04\n",
            "Epoch 21: early stopping\n",
            "Total Training Time taken:  5 Minutes\n"
          ]
        }
      ]
    },
    {
      "cell_type": "code",
      "source": [
        "import numpy as np\n",
        "from keras.preprocessing import image\n",
        "import os\n",
        "import glob\n",
        "test_images_path = \"/content/gdrive/MyDrive/Face Images/Final Testing Images\"\n",
        "with open('/content/gdrive/MyDrive/Face Images/ResultMap.pkl', 'rb') as Final_mapping:\n",
        "   Result_class = pickle.load(Final_mapping)\n",
        "ImagePath=\"/content/gdrive/MyDrive/Face Images/Final Testing Images/face10/1face10.jpg\"\n",
        "test_image=image.load_img(ImagePath,target_size=(100, 100))\n",
        "test_image=image.img_to_array(test_image)\n",
        "test_image=np.expand_dims(test_image,axis=0)\n",
        "result=Model.predict(test_image,verbose=0)\n",
        "print('Prediction is: ',Result_class[np.argmax(result)])"
      ],
      "metadata": {
        "colab": {
          "base_uri": "https://localhost:8080/"
        },
        "id": "h4BuGVTM44k1",
        "outputId": "3d4a18ea-7c18-4e9b-b14c-57200cfbb0af"
      },
      "execution_count": null,
      "outputs": [
        {
          "output_type": "stream",
          "name": "stdout",
          "text": [
            "Prediction is:  face10\n"
          ]
        }
      ]
    },
    {
      "cell_type": "code",
      "source": [
        "import matplotlib.pyplot as plt\n",
        "import numpy as np\n",
        "from keras.preprocessing import image\n",
        "with open('/content/gdrive/MyDrive/Face Images/ResultMap.pkl', 'rb') as Final_mapping:\n",
        "    Result_class = pickle.load(Final_mapping)\n",
        "ImagePath = \"/content/gdrive/MyDrive/Face Images/Final Testing Images/face10/1face10.jpg\"\n",
        "test_image = image.load_img(ImagePath, target_size=(100, 100))\n",
        "test_image_array = image.img_to_array(test_image)\n",
        "test_image_array = np.expand_dims(test_image_array, axis=0)\n",
        "result = Model.predict(test_image_array, verbose=0)\n",
        "predicted_label = Result_class[np.argmax(result)]\n",
        "plt.imshow(test_image)\n",
        "plt.title(f\"Prediction: {predicted_label}\")\n",
        "plt.axis('off')\n",
        "plt.show()"
      ],
      "metadata": {
        "colab": {
          "base_uri": "https://localhost:8080/",
          "height": 428
        },
        "id": "Mzm_ZXkR5Gf_",
        "outputId": "4677d77c-b130-447a-99a6-858405306d5e"
      },
      "execution_count": null,
      "outputs": [
        {
          "output_type": "display_data",
          "data": {
            "text/plain": [
              "<Figure size 640x480 with 1 Axes>"
            ],
            "image/png": "[encoded data removed]"
          },
          "metadata": {}
        }
      ]
    },
    {
      "source": [
        "import numpy as np\n",
        "from keras.preprocessing import image\n",
        "import os\n",
        "import glob\n",
        "from sklearn.metrics import accuracy_score, precision_score, recall_score, f1_score, confusion_matrix\n",
        "test_images_path = \"/content/gdrive/MyDrive/Face Images/Final Testing Images\"\n",
        "with open('/content/gdrive/MyDrive/Face Images/ResultMap.pkl', 'rb') as Final_mapping:\n",
        "    Result_class = pickle.load(Final_mapping)\n",
        "y_true = []\n",
        "y_pred = []\n",
        "main_ = \"/content/gdrive/MyDrive/Face Images/Final Testing Images\"\n",
        "img_paths = glob.glob(os.path.join(main_, '**', '*.jpg'))\n",
        "print(f\"Found {len(img_paths)} images for evaluation.\")\n",
        "\n",
        "for path in img_paths:\n",
        "    true_label = os.path.basename(os.path.dirname(path))\n",
        "    y_true.append(true_label)\n",
        "\n",
        "    test_image = image.load_img(path, target_size=(100, 100))\n",
        "    test_image = image.img_to_array(test_image)\n",
        "    test_image = np.expand_dims(test_image, axis=0)\n",
        "\n",
        "    result = Model.predict(test_image, verbose=0)\n",
        "    predicted_label = Result_class[np.argmax(result)]\n",
        "    y_pred.append(predicted_label)\n",
        "accuracy = accuracy_score(y_true, y_pred)\n",
        "print(f\"Accuracy: {accuracy:.4f}\")\n",
        "precision = precision_score(y_true, y_pred, average='weighted')\n",
        "print(f\"Precision: {precision:.4f}\")\n",
        "recall = recall_score(y_true, y_pred, average='weighted')\n",
        "print(f\"Recall: {recall:.4f}\")\n",
        "f1 = f1_score(y_true, y_pred, average='weighted')\n",
        "print(f\"F1-score: {f1:.4f}\")\n",
        "cm = confusion_matrix(y_true, y_pred)\n",
        "print(\"Confusion Matrix:\")\n",
        "print(cm)"
      ],
      "cell_type": "code",
      "metadata": {
        "colab": {
          "base_uri": "https://localhost:8080/"
        },
        "id": "snw649rq65IX",
        "outputId": "8f13850f-85ea-4643-821b-856f96d2732e"
      },
      "execution_count": null,
      "outputs": [
        {
          "output_type": "stream",
          "name": "stdout",
          "text": [
            "Found 64 images for evaluation.\n",
            "Accuracy: 1.0000\n",
            "Precision: 1.0000\n",
            "Recall: 1.0000\n",
            "F1-score: 1.0000\n",
            "Confusion Matrix:\n",
            "[[4 0 0 0 0 0 0 0 0 0 0 0 0 0 0 0]\n",
            " [0 4 0 0 0 0 0 0 0 0 0 0 0 0 0 0]\n",
            " [0 0 4 0 0 0 0 0 0 0 0 0 0 0 0 0]\n",
            " [0 0 0 4 0 0 0 0 0 0 0 0 0 0 0 0]\n",
            " [0 0 0 0 4 0 0 0 0 0 0 0 0 0 0 0]\n",
            " [0 0 0 0 0 4 0 0 0 0 0 0 0 0 0 0]\n",
            " [0 0 0 0 0 0 4 0 0 0 0 0 0 0 0 0]\n",
            " [0 0 0 0 0 0 0 4 0 0 0 0 0 0 0 0]\n",
            " [0 0 0 0 0 0 0 0 4 0 0 0 0 0 0 0]\n",
            " [0 0 0 0 0 0 0 0 0 4 0 0 0 0 0 0]\n",
            " [0 0 0 0 0 0 0 0 0 0 4 0 0 0 0 0]\n",
            " [0 0 0 0 0 0 0 0 0 0 0 4 0 0 0 0]\n",
            " [0 0 0 0 0 0 0 0 0 0 0 0 4 0 0 0]\n",
            " [0 0 0 0 0 0 0 0 0 0 0 0 0 4 0 0]\n",
            " [0 0 0 0 0 0 0 0 0 0 0 0 0 0 4 0]\n",
            " [0 0 0 0 0 0 0 0 0 0 0 0 0 0 0 4]]\n"
          ]
        }
      ]
    },
    {
      "cell_type": "code",
      "source": [
        "import seaborn as sns\n",
        "import matplotlib.pyplot as plt\n",
        "plt.figure(figsize=(4, 4))\n",
        "sns.heatmap(cm, annot=True)\n",
        "plt.show()"
      ],
      "metadata": {
        "colab": {
          "base_uri": "https://localhost:8080/",
          "height": 377
        },
        "id": "5-7wwKqo5kI0",
        "outputId": "9b4c2401-2924-44c0-8a24-94d480e64326"
      },
      "execution_count": null,
      "outputs": [
        {
          "output_type": "display_data",
          "data": {
            "text/plain": [
              "<Figure size 400x400 with 2 Axes>"
            ],
            "image/png": "[encoded data removed]"
          },
          "metadata": {}
        }
      ]
    }
  ]
}